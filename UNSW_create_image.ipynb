{
  "nbformat": 4,
  "nbformat_minor": 0,
  "metadata": {
    "colab": {
      "name": "UNSW create image.ipynb",
      "provenance": [],
      "collapsed_sections": []
    },
    "kernelspec": {
      "name": "python3",
      "display_name": "Python 3"
    }
  },
  "cells": [
    {
      "cell_type": "code",
      "metadata": {
        "id": "wjVORIqpGx0m",
        "colab_type": "code",
        "colab": {}
      },
      "source": [
        "from __future__ import print_function\n",
        "import sys\n",
        "import numpy as np\n",
        "import pandas as pd\n",
        "import keras\n",
        "from keras.models import Sequential\n",
        "import keras\n",
        "from keras.models import Sequential\n",
        "from keras.layers import Dense, Flatten, Conv1D\n",
        "from keras.callbacks import ModelCheckpoint\n",
        "from keras.models import model_from_json\n",
        "from keras import backend as K\n",
        "import matplotlib\n",
        "import os\n",
        "import cv2\n",
        "from google.colab.patches import cv2_imshow\n",
        "import PIL\n",
        "import shutil\n",
        "import time\n",
        "from PIL import Image\n",
        "from zipfile import ZipFile\n",
        "import shutil\n",
        "import re\n",
        "import math"
      ],
      "execution_count": 2,
      "outputs": []
    },
    {
      "cell_type": "code",
      "metadata": {
        "id": "DGOlOyO1TaXy",
        "colab_type": "code",
        "colab": {}
      },
      "source": [
        "def zip_folder(path,name):\n",
        "  with ZipFile(name, 'w') as zipObj:\n",
        "  # Iterate over all the files in directory\n",
        "    for folderName, subfolders, filenames in os.walk(path):\n",
        "      for filename in filenames:\n",
        "  #create complete filepath of file in directory\n",
        "        filePath = os.path.join(folderName, filename)\n",
        "  # Add file to zip\n",
        "        zipObj.write(filePath)\n",
        "  return"
      ],
      "execution_count": 3,
      "outputs": []
    },
    {
      "cell_type": "code",
      "metadata": {
        "id": "-W6PSoTbLvLx",
        "colab_type": "code",
        "colab": {},
        "cellView": "both"
      },
      "source": [
        "\n",
        "# Function for converting decimal to binary \n",
        "def float_bin(my_number, places = 3): \n",
        "\tmy_whole, my_dec = str(my_number).split(\".\") \n",
        "\tmy_whole = int(my_whole) \n",
        "\tres = (str(bin(my_whole))+\".\").replace('0b','') \n",
        "\n",
        "\tfor x in range(places): \n",
        "\t\tmy_dec = str('0.')+str(my_dec) \n",
        "\t\ttemp = '%1.20f' %(float(my_dec)*2) \n",
        "\t\tmy_whole, my_dec = temp.split(\".\") \n",
        "\t\tres += my_whole \n",
        "\treturn res \n",
        "def IEEE754(n) : \n",
        "\t# identifying whether the number \n",
        "\t# is positive or negative \n",
        "\tsign = 0\n",
        "\tif n < 0 : \n",
        "\t\tsign = 1\n",
        "\t\tn = n * (-1) \n",
        "\tp = 52\n",
        "\t# convert float to binary \n",
        "\tdec = float_bin (n, places = p) \n",
        "\n",
        "\tdotPlace = dec.find('.') \n",
        "\tonePlace = dec.find('1') \n",
        "\t# finding the mantissa \n",
        "\tif onePlace > dotPlace: \n",
        "\t\tdec = dec.replace(\".\",\"\") \n",
        "\t\tonePlace -= 1\n",
        "\t\tdotPlace -= 1\n",
        "\telif onePlace < dotPlace: \n",
        "\t\tdec = dec.replace(\".\",\"\") \n",
        "\t\tdotPlace -= 1\n",
        "\tmantissa = dec[onePlace+1:] \n",
        "    \n",
        "\t# calculating the exponent(E) \n",
        "\texponent = dotPlace - onePlace \n",
        "\texponent_bits = exponent + 1023\n",
        "\n",
        "\t# converting the exponent from \n",
        "\t# decimal to binary \n",
        "\texponent_bits = bin(exponent_bits).replace(\"0b\",'') \n",
        "\n",
        "\tmantissa = mantissa[0:52]  \n",
        "\t# the IEEE754 notation in binary\t \n",
        "\tfinal = str(sign) + exponent_bits.zfill(11) + mantissa.zfill(52)\n",
        "\n",
        "\t# convert the binary to hexadecimal \n",
        "\t\n",
        "\treturn (final) "
      ],
      "execution_count": 4,
      "outputs": []
    },
    {
      "cell_type": "markdown",
      "metadata": {
        "id": "S8MptxqbmcFg",
        "colab_type": "text"
      },
      "source": [
        "**0. Loại bỏ cột là các thuộc tính không dùng trước khi up lên**"
      ]
    },
    {
      "cell_type": "markdown",
      "metadata": {
        "id": "g9_Oss59evpT",
        "colab_type": "text"
      },
      "source": [
        "**1.Up file csv lên (hoặc up lên Google drive cũng được)**\n",
        "sửa đường dẫn"
      ]
    },
    {
      "cell_type": "code",
      "metadata": {
        "id": "PAd15TjLIyoG",
        "colab_type": "code",
        "colab": {}
      },
      "source": [
        "X=pd.read_csv('/UNSW_NB15_training-set.csv') #path của file train\n",
        "Y=pd.read_csv('/UNSW_NB15_testing-set.csv') #path của file test"
      ],
      "execution_count": 5,
      "outputs": []
    },
    {
      "cell_type": "code",
      "metadata": {
        "id": "2AA6RfVOh5zk",
        "colab_type": "code",
        "colab": {
          "base_uri": "https://localhost:8080/",
          "height": 170
        },
        "outputId": "a111fbc3-9948-46d6-bfc3-f49f456a825a"
      },
      "source": [
        "X.columns"
      ],
      "execution_count": 6,
      "outputs": [
        {
          "output_type": "execute_result",
          "data": {
            "text/plain": [
              "Index(['id', 'dur', 'proto', 'service', 'state', 'spkts', 'dpkts', 'sbytes',\n",
              "       'dbytes', 'rate', 'sttl', 'dttl', 'sload', 'dload', 'sloss', 'dloss',\n",
              "       'sinpkt', 'dinpkt', 'sjit', 'djit', 'swin', 'stcpb', 'dtcpb', 'dwin',\n",
              "       'tcprtt', 'synack', 'ackdat', 'smean', 'dmean', 'trans_depth',\n",
              "       'response_body_len', 'ct_srv_src', 'ct_state_ttl', 'ct_dst_ltm',\n",
              "       'ct_src_dport_ltm', 'ct_dst_sport_ltm', 'ct_dst_src_ltm',\n",
              "       'is_ftp_login', 'ct_ftp_cmd', 'ct_flw_http_mthd', 'ct_src_ltm',\n",
              "       'ct_srv_dst', 'is_sm_ips_ports', 'attack_cat', 'label'],\n",
              "      dtype='object')"
            ]
          },
          "metadata": {
            "tags": []
          },
          "execution_count": 6
        }
      ]
    },
    {
      "cell_type": "markdown",
      "metadata": {
        "id": "f_AsEuMYl_hm",
        "colab_type": "text"
      },
      "source": [
        "**2. các cột là thuộc tính dùng để tạo ảnh phải liên tiếp nhau trong file csv, chẳng hạn đây là từ 1 đến 42**\n",
        "Cột 0 không dùng mà e chưa loại bỏ trước"
      ]
    },
    {
      "cell_type": "markdown",
      "metadata": {
        "id": "DwCoCV-zmk9U",
        "colab_type": "text"
      },
      "source": [
        "**3. Lưu tạm các cột không dùng, cột label vào biến khác. ở đây attack cat và lable đều là cột chỉ label.**"
      ]
    },
    {
      "cell_type": "code",
      "metadata": {
        "id": "dNiujjZcK6vX",
        "colab_type": "code",
        "colab": {}
      },
      "source": [
        "Z=X[['attack_cat','label']]\n",
        "X=X.drop(labels=['attack_cat','label'],axis=1)\n",
        "V=Y[['attack_cat','label']]\n",
        "Y=Y.drop(labels=['attack_cat','label'],axis=1)"
      ],
      "execution_count": null,
      "outputs": []
    },
    {
      "cell_type": "code",
      "metadata": {
        "id": "hHJI7QYTNwWm",
        "colab_type": "code",
        "colab": {}
      },
      "source": [
        "frames=[X,Y]\n",
        "result = pd.concat(frames)"
      ],
      "execution_count": null,
      "outputs": []
    },
    {
      "cell_type": "code",
      "metadata": {
        "id": "5QGd0uVpPy0q",
        "colab_type": "code",
        "colab": {}
      },
      "source": [
        "COLUMN_NAMES = ['feature', 'max', 'min']\n",
        "df = pd.DataFrame(columns=COLUMN_NAMES)\n",
        "df"
      ],
      "execution_count": null,
      "outputs": []
    },
    {
      "cell_type": "code",
      "metadata": {
        "id": "EMMWRJ61KnLj",
        "colab_type": "code",
        "colab": {}
      },
      "source": [
        "for i in result.columns:\n",
        "  if (result[i].dtype!='object'):\n",
        "    row = pd.DataFrame([[i, result[i].max(), result[i].min()]], columns=COLUMN_NAMES)\n",
        "    df = df.append(row)"
      ],
      "execution_count": null,
      "outputs": []
    },
    {
      "cell_type": "code",
      "metadata": {
        "id": "FlJhYVP-SgPn",
        "colab_type": "code",
        "colab": {}
      },
      "source": [
        "#       \n",
        "for i in X.columns:\n",
        "  if X[i].dtype=='float64':\n",
        "    max=df[df['feature'] == i]['max'].values[0]\n",
        "    min=df[df['feature'] == i]['min'].values[0]\n",
        "    X[i]=X[i].apply(lambda x: (x-min)/(max-min))"
      ],
      "execution_count": null,
      "outputs": []
    },
    {
      "cell_type": "code",
      "metadata": {
        "id": "gNWCInVMktOY",
        "colab_type": "code",
        "colab": {}
      },
      "source": [
        "for i in X.columns:\n",
        "    if (X[i].dtype=='object'):\n",
        "      X[i]=X[i].astype('category').cat.codes\n",
        "      X[i]=X[i].apply(lambda x: '{:08b}'.format(x))"
      ],
      "execution_count": null,
      "outputs": []
    },
    {
      "cell_type": "code",
      "metadata": {
        "id": "ueBFlNeLlS65",
        "colab_type": "code",
        "colab": {}
      },
      "source": [
        "for i in X.columns:\n",
        "    if (X[i].dtype=='Int64'):\n",
        "      X[i]=X[i].apply(lambda x: '{:064b}'.format(x))"
      ],
      "execution_count": null,
      "outputs": []
    },
    {
      "cell_type": "code",
      "metadata": {
        "id": "hvbsyVGjo-4t",
        "colab_type": "code",
        "colab": {}
      },
      "source": [
        "for i in X.columns[X.isna().any()].tolist():\n",
        "    X[i].fillna(-1.0, inplace = True)\n",
        "\n",
        "for i in X.columns:\n",
        "    if (X[i].dtype=='float64'):\n",
        "      X[i]=X[i].apply(lambda x: IEEE754(x))"
      ],
      "execution_count": null,
      "outputs": []
    },
    {
      "cell_type": "code",
      "metadata": {
        "id": "KsMZaQBPAZas",
        "colab_type": "code",
        "colab": {}
      },
      "source": [
        "#       \n",
        "for i in Y.columns:\n",
        "  if Y[i].dtype=='float64':\n",
        "    max=df[df['feature'] == i]['max'].values[0]\n",
        "    min=df[df['feature'] == i]['min'].values[0]\n",
        "    Y[i]=Y[i].apply(lambda x: (x-min)/(max-min))"
      ],
      "execution_count": null,
      "outputs": []
    },
    {
      "cell_type": "code",
      "metadata": {
        "id": "bEQZwcBwAa1k",
        "colab_type": "code",
        "colab": {}
      },
      "source": [
        "for i in Y.columns:\n",
        "    if (Y[i].dtype=='object'):\n",
        "      Y[i]=Y[i].astype('category').cat.codes\n",
        "      Y[i]=Y[i].apply(lambda x: '{:08b}'.format(x))"
      ],
      "execution_count": null,
      "outputs": []
    },
    {
      "cell_type": "code",
      "metadata": {
        "id": "820-DHnAAcRK",
        "colab_type": "code",
        "colab": {}
      },
      "source": [
        "for i in Y.columns:\n",
        "    if (Y[i].dtype=='Int64'):\n",
        "      Y[i]=Y[i].apply(lambda x: '{:064b}'.format(x))"
      ],
      "execution_count": null,
      "outputs": []
    },
    {
      "cell_type": "code",
      "metadata": {
        "id": "F4rLOe-mAd9-",
        "colab_type": "code",
        "colab": {}
      },
      "source": [
        "for i in Y.columns[Y.isna().any()].tolist():\n",
        "    Y[i].fillna(-1.0, inplace = True)\n",
        "\n",
        "for i in Y.columns:\n",
        "    if (Y[i].dtype=='float64'):\n",
        "      Y[i]=Y[i].apply(lambda x: IEEE754(x))"
      ],
      "execution_count": null,
      "outputs": []
    },
    {
      "cell_type": "markdown",
      "metadata": {
        "id": "nDJYf5wPfe3O",
        "colab_type": "text"
      },
      "source": [
        "**4. Thêm lại cột label vào**"
      ]
    },
    {
      "cell_type": "code",
      "metadata": {
        "id": "FsaMpbxtQuS6",
        "colab_type": "code",
        "colab": {}
      },
      "source": [
        "X['label']=Z['label']\n",
        "Y['label']=V['label']"
      ],
      "execution_count": null,
      "outputs": []
    },
    {
      "cell_type": "markdown",
      "metadata": {
        "id": "QDjAs9UTF3lH",
        "colab_type": "text"
      },
      "source": [
        "**Convert**"
      ]
    },
    {
      "cell_type": "markdown",
      "metadata": {
        "id": "Mpm7tpB6flz9",
        "colab_type": "text"
      },
      "source": [
        "**5. ở hàm dưới đây, [1:43] là lấy thuộc tính từ 1 đến 42 (các thuộc tính sử dụng để tạo ảnh), sửa lại cho phù hợp**\n",
        "**\n",
        "\n",
        "**6. if row.values[43]==0: kiểm tra cột label để lưu ảnh vào thư mục phù hợp, ở đây 0 là 'normal'**\n",
        "cần kiểm tra cột label biểu diễn như thế nào"
      ]
    },
    {
      "cell_type": "code",
      "metadata": {
        "id": "RKLN7pbUF8vF",
        "colab_type": "code",
        "colab": {}
      },
      "source": [
        "def convert_to_image(X,path):\n",
        "  for index, row in X.iterrows():\n",
        "    joined_features=''.join(row.values[1:43]).replace('\\'', '') # nối chuỗi các selected features (từ 1 đến 42)\n",
        "    image_size=round(math.sqrt(len(joined_features)/8))+1\n",
        "    arrayA=np.array(re.findall('.{1,8}',joined_features.ljust(image_size*image_size*8,'0')))\n",
        "    arrayA=vectorized_bin2dec(arrayA)\n",
        "    arrayA=arrayA.reshape(image_size,image_size)\n",
        "    arrayA=arrayA.astype(np.uint8)\n",
        "    image=Image.fromarray(arrayA)\n",
        "    if row.values[43]==0: #cột 43 là cột label, 0 là normal, 1 là attack\n",
        "      image.save(path+'/'+'normal'+'/'+str(index)+'.png')\n",
        "    else:\n",
        "      image.save(path+'/'+'attack'+'/'+str(index)+'.png')"
      ],
      "execution_count": null,
      "outputs": []
    },
    {
      "cell_type": "code",
      "metadata": {
        "id": "1UU7vMAuGw5F",
        "colab_type": "code",
        "colab": {}
      },
      "source": [
        "bin2dec = lambda i: int(i,2)\n",
        "vectorized_bin2dec = np.vectorize(bin2dec)"
      ],
      "execution_count": null,
      "outputs": []
    },
    {
      "cell_type": "markdown",
      "metadata": {
        "id": "PQ7gcim3iVEe",
        "colab_type": "text"
      },
      "source": [
        "Phải tạo thư mục chứa ảnh trước"
      ]
    },
    {
      "cell_type": "code",
      "metadata": {
        "id": "vBKM_JfUAXSN",
        "colab_type": "code",
        "colab": {}
      },
      "source": [
        "os.mkdir('/content/train/')\n",
        "os.mkdir('/content/train/normal')\n",
        "os.mkdir('/content/train/attack')"
      ],
      "execution_count": 7,
      "outputs": []
    },
    {
      "cell_type": "markdown",
      "metadata": {
        "id": "9HYlH428hMR1",
        "colab_type": "text"
      },
      "source": [
        "Convert file train"
      ]
    },
    {
      "cell_type": "code",
      "metadata": {
        "id": "TQrrtToKGhxd",
        "colab_type": "code",
        "colab": {}
      },
      "source": [
        "convert_to_image(X,'/content/train')"
      ],
      "execution_count": null,
      "outputs": []
    },
    {
      "cell_type": "code",
      "metadata": {
        "id": "CoMSCrezTczT",
        "colab_type": "code",
        "colab": {}
      },
      "source": [
        "zip_folder('/content/train','Train41frt.zip')"
      ],
      "execution_count": null,
      "outputs": []
    },
    {
      "cell_type": "markdown",
      "metadata": {
        "id": "lAGdQeNbg7lN",
        "colab_type": "text"
      },
      "source": [
        "Tiếp theo là file Test"
      ]
    },
    {
      "cell_type": "code",
      "metadata": {
        "id": "w6Es6mx6ixbg",
        "colab_type": "code",
        "colab": {}
      },
      "source": [
        "os.mkdir('/content/val/')\n",
        "os.mkdir('/content/val/normal')\n",
        "os.mkdir('/content/val/attack')"
      ],
      "execution_count": null,
      "outputs": []
    },
    {
      "cell_type": "code",
      "metadata": {
        "id": "kiI5zb5BFBKd",
        "colab_type": "code",
        "colab": {}
      },
      "source": [
        "os.mkdir('/content/val/normal')\n",
        "os.mkdir('/content/val/attack')\n",
        "convert_to_image(Y,'/content/val')\n",
        "zip_folder('/content/val','Val41frt.zip')"
      ],
      "execution_count": null,
      "outputs": []
    },
    {
      "cell_type": "markdown",
      "metadata": {
        "id": "XqpJaQ98oY7i",
        "colab_type": "text"
      },
      "source": [
        "**7. down 2 file đã nén về máy: Train41frt.zip, Val41frt.zip**"
      ]
    }
  ]
}